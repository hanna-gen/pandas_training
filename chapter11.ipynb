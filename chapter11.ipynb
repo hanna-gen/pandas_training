{
 "cells": [
  {
   "cell_type": "markdown",
   "metadata": {},
   "source": [
    "Readme:\n",
    "\n",
    "\n",
    "We encourage you to explore more functionalities in 'Python for Data Analysis, 3E' by Wes McKinney, Chapter 11: 'Time Series'.</br>\n",
    "Link: https://wesmckinney.com/book/time-series"
   ]
  },
  {
   "cell_type": "code",
   "execution_count": 1,
   "metadata": {},
   "outputs": [],
   "source": [
    "import numpy as np\n",
    "import pandas as pd\n",
    "from datetime import datetime"
   ]
  },
  {
   "cell_type": "markdown",
   "metadata": {},
   "source": [
    "<p>\n",
    "pandas is generally oriented toward working with arrays of dates, whether used as an axis index or a column in a DataFrame.  </br>\n",
    "The pandas.to_datetime method parses many different kinds of date representations. Standard date formats like ISO 8601 can be parsed quickly. </br>\n",
    "Run below code and analyze the data type it returns. </br>\n",
    "</p>\n"
   ]
  },
  {
   "cell_type": "code",
   "execution_count": 3,
   "metadata": {},
   "outputs": [
    {
     "data": {
      "text/plain": [
       "DatetimeIndex(['2011-07-06 12:00:00', '2011-08-06 00:00:00'], dtype='datetime64[ns]', freq=None)"
      ]
     },
     "execution_count": 3,
     "metadata": {},
     "output_type": "execute_result"
    }
   ],
   "source": [
    "datestrs = [\"2011-07-06 12:00:00\", \"2011-08-06 00:00:00\"]\n",
    "dt = pd.to_datetime(datestrs) \n",
    "dt # DatetimeIndex"
   ]
  },
  {
   "cell_type": "markdown",
   "metadata": {},
   "source": [
    "<p>\n",
    "Scalar values from a DatetimeIndex are pandas Timestamp objects.</br>\n",
    "Now print the second item from the DatetimeIndex array and see what date type it is.</br></br>\n",
    "\n",
    "Note: A pandas.Timestamp can be substituted most places where you would use a datetime object. The reverse is not true, however, because pandas.Timestamp can store nanosecond precision data, while datetime stores only up to microseconds. </br>\n",
    "Additionally, pandas.Timestamp can store frequency information (if any) and understands how to do time zone conversions and other kinds of manipulation </br>\n",
    "</p>\n"
   ]
  },
  {
   "cell_type": "code",
   "execution_count": 4,
   "metadata": {},
   "outputs": [
    {
     "data": {
      "text/plain": [
       "pandas._libs.tslibs.timestamps.Timestamp"
      ]
     },
     "execution_count": 4,
     "metadata": {},
     "output_type": "execute_result"
    }
   ],
   "source": [
    "type(dt[1]) # pd Timestamp"
   ]
  },
  {
   "cell_type": "markdown",
   "metadata": {},
   "source": [
    "<p>\n",
    "Now run below to display how the None value is parsed. What does 'NaT' mean? </br>\n",
    "Then run isna() on the 'idx' and analyze the output.</br>\n",
    "</p>\n"
   ]
  },
  {
   "cell_type": "code",
   "execution_count": 5,
   "metadata": {},
   "outputs": [
    {
     "name": "stdout",
     "output_type": "stream",
     "text": [
      "DatetimeIndex(['2011-07-06 12:00:00', '2011-08-06 00:00:00', 'NaT'], dtype='datetime64[ns]', freq=None)\n",
      "[False False  True]\n"
     ]
    }
   ],
   "source": [
    "idx = pd.to_datetime(datestrs + [None])\n",
    "print(idx)\n",
    "print(idx.isna())"
   ]
  },
  {
   "cell_type": "markdown",
   "metadata": {},
   "source": [
    "<p>\n",
    "Create a Series with length 1000 populated by random numbers with date index starting from 2000-01-01. </br>\n",
    "</p>\n"
   ]
  },
  {
   "cell_type": "code",
   "execution_count": 6,
   "metadata": {},
   "outputs": [
    {
     "data": {
      "text/plain": [
       "2000-01-01    2.164814\n",
       "2000-01-02    0.373463\n",
       "2000-01-03    0.203024\n",
       "2000-01-04    0.612835\n",
       "2000-01-05   -0.416032\n",
       "                ...   \n",
       "2002-09-22   -0.078434\n",
       "2002-09-23   -0.952530\n",
       "2002-09-24   -0.392066\n",
       "2002-09-25   -0.188376\n",
       "2002-09-26    0.586746\n",
       "Freq: D, Length: 1000, dtype: float64"
      ]
     },
     "execution_count": 6,
     "metadata": {},
     "output_type": "execute_result"
    }
   ],
   "source": [
    "s = pd.Series(np.random.standard_normal(1000), index = pd.date_range('2000-01-01', periods = 1000))\n",
    "s"
   ]
  },
  {
   "cell_type": "markdown",
   "metadata": {},
   "source": [
    "<p>\n",
    "Select data where index contains '2002'. </br>\n",
    "</p>\n"
   ]
  },
  {
   "cell_type": "code",
   "execution_count": 7,
   "metadata": {},
   "outputs": [
    {
     "data": {
      "text/plain": [
       "2002-01-01    1.419023\n",
       "2002-01-02    0.677372\n",
       "2002-01-03   -0.702965\n",
       "2002-01-04    0.162919\n",
       "2002-01-05    0.603247\n",
       "                ...   \n",
       "2002-09-22   -0.078434\n",
       "2002-09-23   -0.952530\n",
       "2002-09-24   -0.392066\n",
       "2002-09-25   -0.188376\n",
       "2002-09-26    0.586746\n",
       "Freq: D, Length: 269, dtype: float64"
      ]
     },
     "execution_count": 7,
     "metadata": {},
     "output_type": "execute_result"
    }
   ],
   "source": [
    "s['2002'] # slicing also works - print(s['2002-01-01':'2002-12-31'])"
   ]
  },
  {
   "cell_type": "markdown",
   "metadata": {},
   "source": [
    "<p>\n",
    "Remove data after 2001-01-01 and display the result</br>\n",
    "</p>\n"
   ]
  },
  {
   "cell_type": "code",
   "execution_count": 8,
   "metadata": {},
   "outputs": [
    {
     "data": {
      "text/plain": [
       "2000-01-01    2.164814\n",
       "2000-01-02    0.373463\n",
       "2000-01-03    0.203024\n",
       "2000-01-04    0.612835\n",
       "2000-01-05   -0.416032\n",
       "                ...   \n",
       "2000-12-28   -1.003193\n",
       "2000-12-29    0.464313\n",
       "2000-12-30    1.457524\n",
       "2000-12-31   -1.831429\n",
       "2001-01-01    1.004287\n",
       "Freq: D, Length: 367, dtype: float64"
      ]
     },
     "execution_count": 8,
     "metadata": {},
     "output_type": "execute_result"
    }
   ],
   "source": [
    "s.truncate(after='2001-01-01')"
   ]
  },
  {
   "cell_type": "markdown",
   "metadata": {},
   "source": [
    "<p>\n",
    "Create a DatetimeIndex with length 100 starting from 2000-01-01 with weekly frequency (Tuesdays). </br>\n",
    "</p>\n"
   ]
  },
  {
   "cell_type": "code",
   "execution_count": 9,
   "metadata": {},
   "outputs": [
    {
     "data": {
      "text/plain": [
       "DatetimeIndex(['2000-01-04', '2000-01-11', '2000-01-18', '2000-01-25',\n",
       "               '2000-02-01', '2000-02-08', '2000-02-15', '2000-02-22',\n",
       "               '2000-02-29', '2000-03-07', '2000-03-14', '2000-03-21',\n",
       "               '2000-03-28', '2000-04-04', '2000-04-11', '2000-04-18',\n",
       "               '2000-04-25', '2000-05-02', '2000-05-09', '2000-05-16',\n",
       "               '2000-05-23', '2000-05-30', '2000-06-06', '2000-06-13',\n",
       "               '2000-06-20', '2000-06-27', '2000-07-04', '2000-07-11',\n",
       "               '2000-07-18', '2000-07-25', '2000-08-01', '2000-08-08',\n",
       "               '2000-08-15', '2000-08-22', '2000-08-29', '2000-09-05',\n",
       "               '2000-09-12', '2000-09-19', '2000-09-26', '2000-10-03',\n",
       "               '2000-10-10', '2000-10-17', '2000-10-24', '2000-10-31',\n",
       "               '2000-11-07', '2000-11-14', '2000-11-21', '2000-11-28',\n",
       "               '2000-12-05', '2000-12-12', '2000-12-19', '2000-12-26',\n",
       "               '2001-01-02', '2001-01-09', '2001-01-16', '2001-01-23',\n",
       "               '2001-01-30', '2001-02-06', '2001-02-13', '2001-02-20',\n",
       "               '2001-02-27', '2001-03-06', '2001-03-13', '2001-03-20',\n",
       "               '2001-03-27', '2001-04-03', '2001-04-10', '2001-04-17',\n",
       "               '2001-04-24', '2001-05-01', '2001-05-08', '2001-05-15',\n",
       "               '2001-05-22', '2001-05-29', '2001-06-05', '2001-06-12',\n",
       "               '2001-06-19', '2001-06-26', '2001-07-03', '2001-07-10',\n",
       "               '2001-07-17', '2001-07-24', '2001-07-31', '2001-08-07',\n",
       "               '2001-08-14', '2001-08-21', '2001-08-28', '2001-09-04',\n",
       "               '2001-09-11', '2001-09-18', '2001-09-25', '2001-10-02',\n",
       "               '2001-10-09', '2001-10-16', '2001-10-23', '2001-10-30',\n",
       "               '2001-11-06', '2001-11-13', '2001-11-20', '2001-11-27'],\n",
       "              dtype='datetime64[ns]', freq='W-TUE')"
      ]
     },
     "execution_count": 9,
     "metadata": {},
     "output_type": "execute_result"
    }
   ],
   "source": [
    "dates = pd.date_range('2000-01-01', periods=100, freq='W-TUE')\n",
    "dates"
   ]
  },
  {
   "cell_type": "markdown",
   "metadata": {},
   "source": [
    "<p>\n",
    "Generating Date Ranges.\n",
    "By default, pandas.date_range generates daily timestamps.\n",
    "Create a DatetimeIndex in range from 2000-01-01 to 2000-12-01 with frequency 'business end of month'. </br>\n",
    "</p>\n"
   ]
  },
  {
   "cell_type": "code",
   "execution_count": null,
   "metadata": {},
   "outputs": [
    {
     "data": {
      "text/plain": [
       "DatetimeIndex(['2000-01-31', '2000-02-29', '2000-03-31', '2000-04-28',\n",
       "               '2000-05-31', '2000-06-30', '2000-07-31', '2000-08-31',\n",
       "               '2000-09-29', '2000-10-31', '2000-11-30'],\n",
       "              dtype='datetime64[ns]', freq='BM')"
      ]
     },
     "execution_count": 11,
     "metadata": {},
     "output_type": "execute_result"
    }
   ],
   "source": [
    "dt_index = pd.date_range(\"2000-01-01\", \"2000-12-01\", freq=\"BM\") # can use 'BME' in newer versions of pandas\n",
    "dt_index"
   ]
  },
  {
   "cell_type": "markdown",
   "metadata": {},
   "source": [
    "<p>\n",
    "pandas.date_range by default preserves the time (if any) of the start or end timestamp.</br>\n",
    "Run below code and see the start and end date values. </br>\n",
    "</p>\n"
   ]
  },
  {
   "cell_type": "code",
   "execution_count": 12,
   "metadata": {},
   "outputs": [
    {
     "data": {
      "text/plain": [
       "DatetimeIndex(['2012-05-02 12:56:31', '2012-05-03 12:56:31',\n",
       "               '2012-05-04 12:56:31', '2012-05-05 12:56:31',\n",
       "               '2012-05-06 12:56:31'],\n",
       "              dtype='datetime64[ns]', freq='D')"
      ]
     },
     "execution_count": 12,
     "metadata": {},
     "output_type": "execute_result"
    }
   ],
   "source": [
    "pd.date_range(\"2012-05-02 12:56:31\", periods=5)"
   ]
  },
  {
   "cell_type": "markdown",
   "metadata": {},
   "source": [
    "<p>\n",
    "Sometimes you will have start or end dates with time information but want to generate a set of timestamps normalized to midnight as a convention. </br>\n",
    "To do this, there is a normalize option - run below and analyze the output. </br>\n",
    "</p>\n"
   ]
  },
  {
   "cell_type": "code",
   "execution_count": 13,
   "metadata": {},
   "outputs": [
    {
     "data": {
      "text/plain": [
       "DatetimeIndex(['2012-05-02', '2012-05-03', '2012-05-04', '2012-05-05',\n",
       "               '2012-05-06'],\n",
       "              dtype='datetime64[ns]', freq='D')"
      ]
     },
     "execution_count": 13,
     "metadata": {},
     "output_type": "execute_result"
    }
   ],
   "source": [
    "pd.date_range(\"2012-05-02 12:56:31\", periods=5, normalize=True)"
   ]
  },
  {
   "cell_type": "markdown",
   "metadata": {},
   "source": [
    "<p>\n",
    "Frequencies and Date Offsets. </br>\n",
    "1. Create a DatetimeIndex in range from 2000-01-01 to 2000-01-03 23:59 with frequency '6 hours'. </br>\n",
    "2. Then change the frequency to '2 hours and 30 minutes'. </br>\n",
    "\n",
    "</p>\n"
   ]
  },
  {
   "cell_type": "code",
   "execution_count": null,
   "metadata": {},
   "outputs": [],
   "source": [
    "print(pd.date_range(\"2000-01-01\", \"2000-01-03 23:59\", freq=\"6H\"))\n",
    "\n",
    "print(pd.date_range(\"2000-01-01\", \"2000-01-03 23:59\", freq=\"2h30min\"))"
   ]
  },
  {
   "cell_type": "markdown",
   "metadata": {},
   "source": [
    "<p>\n",
    "Now create a DatetimeIndex in range from 2012-01-01 to 2012-09-01 and get fourth Wednesday of each month. </br>\n",
    "</p>\n"
   ]
  },
  {
   "cell_type": "code",
   "execution_count": 14,
   "metadata": {},
   "outputs": [
    {
     "data": {
      "text/plain": [
       "DatetimeIndex(['2012-01-25', '2012-02-22', '2012-03-28', '2012-04-25',\n",
       "               '2012-05-23', '2012-06-27', '2012-07-25', '2012-08-22'],\n",
       "              dtype='datetime64[ns]', freq='WOM-4WED')"
      ]
     },
     "execution_count": 14,
     "metadata": {},
     "output_type": "execute_result"
    }
   ],
   "source": [
    "pd.date_range(\"2012-01-01\", \"2012-09-01\", freq=\"WOM-4WED\")"
   ]
  },
  {
   "cell_type": "markdown",
   "metadata": {},
   "source": [
    "<p>\n",
    "Periods and Period Arithmetic. </br>\n",
    "1. Create a pandas.Period that represents the full time span from January 1, 2011, to December 31, 2011, inclusive.</br>\n",
    "2. Then add 5 to it and analyze the result.</br>\n",
    "</p>\n"
   ]
  },
  {
   "cell_type": "code",
   "execution_count": 18,
   "metadata": {},
   "outputs": [
    {
     "name": "stdout",
     "output_type": "stream",
     "text": [
      "2011\n",
      "2016\n"
     ]
    }
   ],
   "source": [
    "p = pd.Period(\"2011\", freq=\"A-DEC\") # use 'Y-DEC' in later versions of pandas\n",
    "print(p) # In this case, the Period object represents the full time span from January 1, 2011, to December 31, 2011, inclusive.\n",
    "print(p + 5)"
   ]
  },
  {
   "cell_type": "markdown",
   "metadata": {},
   "source": [
    "<p>\n",
    "Compare period and date range. </br>\n",
    "Run below code and analyze the result.\n",
    "</p>\n"
   ]
  },
  {
   "cell_type": "code",
   "execution_count": null,
   "metadata": {},
   "outputs": [
    {
     "name": "stdout",
     "output_type": "stream",
     "text": [
      "PeriodIndex(['2000-01', '2000-02', '2000-03', '2000-04', '2000-05', '2000-06'], dtype='period[M]')\n",
      "DatetimeIndex(['2000-01-31', '2000-02-29', '2000-03-31', '2000-04-30',\n",
      "               '2000-05-31', '2000-06-30'],\n",
      "              dtype='datetime64[ns]', freq='M')\n"
     ]
    }
   ],
   "source": [
    "periods = pd.period_range(\"2000-01-01\", \"2000-06-30\", freq=\"M\") # for PeriodIndex use 'M'\n",
    "print(periods) # PeriodIndex(['2000-01', '2000-02', '2000-03', '2000-04', '2000-05', '2000-06'], dtype='period[M]')\n",
    "\n",
    "dt = pd.date_range(\"2000-01-01\", \"2000-06-30\", freq=\"M\") # For DatetimeIndex use 'ME' in later versions of pandas\n",
    "print(dt) # DatetimeIndex(['2000-01-31', '2000-02-29', '2000-03-31', '2000-04-30', '2000-05-31', '2000-06-30'], dtype='datetime64[ns]', freq='ME')"
   ]
  },
  {
   "cell_type": "markdown",
   "metadata": {},
   "source": [
    "<p>\n",
    "Run below and analyze the output. </br>\n",
    "Think of how could you use these functionalities in real life. </br>\n",
    "\n",
    "</p>\n"
   ]
  },
  {
   "cell_type": "code",
   "execution_count": 22,
   "metadata": {},
   "outputs": [
    {
     "data": {
      "text/plain": [
       "PeriodIndex(['2001Q3', '2002Q2', '2003Q1'], dtype='period[Q-DEC]')"
      ]
     },
     "execution_count": 22,
     "metadata": {},
     "output_type": "execute_result"
    }
   ],
   "source": [
    "values = [\"2001Q3\", \"2002Q2\", \"2003Q1\"]\n",
    "index = pd.PeriodIndex(values, freq=\"Q-DEC\") \n",
    "index"
   ]
  },
  {
   "cell_type": "markdown",
   "metadata": {},
   "source": [
    "<p>\n",
    "Condition </br>\n",
    "</p>\n"
   ]
  },
  {
   "cell_type": "code",
   "execution_count": null,
   "metadata": {},
   "outputs": [],
   "source": []
  },
  {
   "cell_type": "markdown",
   "metadata": {},
   "source": [
    "<p>\n",
    "Condition </br>\n",
    "</p>\n"
   ]
  },
  {
   "cell_type": "code",
   "execution_count": null,
   "metadata": {},
   "outputs": [],
   "source": []
  },
  {
   "cell_type": "markdown",
   "metadata": {},
   "source": [
    "<p>\n",
    "Condition </br>\n",
    "</p>\n"
   ]
  },
  {
   "cell_type": "code",
   "execution_count": null,
   "metadata": {},
   "outputs": [],
   "source": []
  },
  {
   "cell_type": "markdown",
   "metadata": {},
   "source": [
    "<p>\n",
    "Condition </br>\n",
    "</p>\n"
   ]
  },
  {
   "cell_type": "code",
   "execution_count": null,
   "metadata": {},
   "outputs": [],
   "source": []
  },
  {
   "cell_type": "markdown",
   "metadata": {},
   "source": [
    "<p>\n",
    "Condition </br>\n",
    "</p>\n"
   ]
  },
  {
   "cell_type": "code",
   "execution_count": null,
   "metadata": {},
   "outputs": [],
   "source": []
  },
  {
   "cell_type": "markdown",
   "metadata": {},
   "source": [
    "<p>\n",
    "Condition </br>\n",
    "</p>\n"
   ]
  },
  {
   "cell_type": "code",
   "execution_count": null,
   "metadata": {},
   "outputs": [],
   "source": []
  },
  {
   "cell_type": "markdown",
   "metadata": {},
   "source": [
    "<p>\n",
    "Condition </br>\n",
    "</p>\n"
   ]
  },
  {
   "cell_type": "code",
   "execution_count": null,
   "metadata": {},
   "outputs": [],
   "source": []
  },
  {
   "cell_type": "markdown",
   "metadata": {},
   "source": [
    "<p>\n",
    "Condition </br>\n",
    "</p>\n"
   ]
  }
 ],
 "metadata": {
  "kernelspec": {
   "display_name": "base",
   "language": "python",
   "name": "python3"
  },
  "language_info": {
   "codemirror_mode": {
    "name": "ipython",
    "version": 3
   },
   "file_extension": ".py",
   "mimetype": "text/x-python",
   "name": "python",
   "nbconvert_exporter": "python",
   "pygments_lexer": "ipython3",
   "version": "3.8.5"
  }
 },
 "nbformat": 4,
 "nbformat_minor": 2
}
