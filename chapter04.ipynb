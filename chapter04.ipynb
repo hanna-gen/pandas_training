{
 "cells": [
  {
   "cell_type": "markdown",
   "metadata": {},
   "source": [
    "Readme:\n",
    "1. 'array' means numpy array data type: numpy.array()\n",
    "2. 'list' means python list data type: list()\n",
    "\n",
    "We encourage you to explore more functionalities in 'Python for Data Analysis, 3E' by Wes McKinney, Chapter 4: 'NumPy Basics: Arrays and Vectorized Computation'.</br>\n",
    "Link: https://wesmckinney.com/book/numpy-basics"
   ]
  },
  {
   "cell_type": "code",
   "execution_count": 33,
   "metadata": {},
   "outputs": [
    {
     "name": "stdout",
     "output_type": "stream",
     "text": [
      "Requirement already satisfied: numpy in c:\\users\\hanna\\miniconda3\\lib\\site-packages (1.24.4)\n"
     ]
    }
   ],
   "source": [
    "!pip install numpy"
   ]
  },
  {
   "cell_type": "code",
   "execution_count": 1,
   "metadata": {},
   "outputs": [],
   "source": [
    "import numpy as np"
   ]
  },
  {
   "cell_type": "markdown",
   "metadata": {},
   "source": [
    "<p>\n",
    "Create a python list in range 1_000_000. </br>\n",
    "Then multiply each element by 2 and measure the execution time with the help of magic command %timeit.</br>\n",
    "</p>\n"
   ]
  },
  {
   "cell_type": "code",
   "execution_count": 35,
   "metadata": {},
   "outputs": [
    {
     "name": "stdout",
     "output_type": "stream",
     "text": [
      "87.3 ms ± 1.03 ms per loop (mean ± std. dev. of 7 runs, 10 loops each)\n"
     ]
    }
   ],
   "source": [
    "lst = list(range(1_000_000))\n",
    "%timeit lst2 = [i * 2 for i in lst] "
   ]
  },
  {
   "cell_type": "markdown",
   "metadata": {},
   "source": [
    "<p>\n",
    "Now create a numpy array in range 1_000_000. </br>\n",
    "Then multiply each element by 2 and measure the execution time.</br></br>\n",
    "Then compare the multiplication execution time of numpy array and python list. Which one is faster?</br>\n",
    "Do you have to use a for loop for the multiplication operation with numpy arrays?</br>\n",
    "</p>\n"
   ]
  },
  {
   "cell_type": "code",
   "execution_count": 36,
   "metadata": {},
   "outputs": [
    {
     "name": "stdout",
     "output_type": "stream",
     "text": [
      "1.53 ms ± 46.4 µs per loop (mean ± std. dev. of 7 runs, 1,000 loops each)\n"
     ]
    }
   ],
   "source": [
    "arr = np.arange(1_000_000)\n",
    "%timeit arr2 = arr * 2"
   ]
  },
  {
   "cell_type": "markdown",
   "metadata": {},
   "source": [
    "\n",
    "<p>\n",
    "Create a numpy array out of [1.5, -0.1, 3], [0, -3, 6.5]. Then do: </br>\n",
    "1. Add each element to itself;</br>\n",
    "2. Multiply each element by 10.</br>\n",
    "3. How many dimentions does the array have? Use proper numpy attributes to return the answer.</br>\n",
    "\n",
    "</p>\n"
   ]
  },
  {
   "cell_type": "code",
   "execution_count": 2,
   "metadata": {},
   "outputs": [
    {
     "name": "stdout",
     "output_type": "stream",
     "text": [
      "[[ 3.  -0.2  6. ]\n",
      " [ 0.  -6.  13. ]]\n",
      "[[ 15.  -1.  30.]\n",
      " [  0. -30.  65.]]\n",
      "2\n"
     ]
    }
   ],
   "source": [
    "data = np.array([[1.5, -0.1, 3], [0, -3, 6.5]])\n",
    "print(data + data)\n",
    "print(data * 10)\n",
    "print(data.ndim) # or: print(data.shape)"
   ]
  },
  {
   "cell_type": "markdown",
   "metadata": {},
   "source": [
    "<p>\n",
    "Create an array of zeros in the following shape: </br>\n",
    "[[0. 0. 0. 0. 0. 0.]</br>\n",
    " [0. 0. 0. 0. 0. 0.]</br>\n",
    " [0. 0. 0. 0. 0. 0.]]</br></br>\n",
    "Hint: </br>\n",
    "numpy.empty() serves a different purpose. It creates an array without initializing its values to any particular value, so it’s not safe to assume that it will return an array of all zeros. \n",
    "This function returns uninitialized memory and thus may contain nonzero \"garbage\" values. You should use this function only if you intend to populate the new array with data.\n",
    "\n",
    "\n",
    "\n",
    "\n",
    "</p>\n"
   ]
  },
  {
   "cell_type": "code",
   "execution_count": 38,
   "metadata": {},
   "outputs": [
    {
     "data": {
      "text/plain": [
       "array([[0., 0., 0., 0., 0., 0.],\n",
       "       [0., 0., 0., 0., 0., 0.],\n",
       "       [0., 0., 0., 0., 0., 0.]])"
      ]
     },
     "execution_count": 38,
     "metadata": {},
     "output_type": "execute_result"
    }
   ],
   "source": [
    "arr = np.zeros((3, 6))\n",
    "arr"
   ]
  },
  {
   "cell_type": "markdown",
   "metadata": {},
   "source": [
    "<p>\n",
    "Create an array of ones in the following shape: </br>\n",
    "[[1., 1.],</br>\n",
    " [1., 1.]]</br>\n",
    "\n",
    "\n",
    "\n",
    "\n",
    "\n",
    "</p>\n"
   ]
  },
  {
   "cell_type": "code",
   "execution_count": 39,
   "metadata": {},
   "outputs": [
    {
     "data": {
      "text/plain": [
       "array([[1., 1.],\n",
       "       [1., 1.]])"
      ]
     },
     "execution_count": 39,
     "metadata": {},
     "output_type": "execute_result"
    }
   ],
   "source": [
    "arr = np.ones((2, 2))\n",
    "arr"
   ]
  },
  {
   "cell_type": "markdown",
   "metadata": {},
   "source": [
    "<p>\n",
    "Create an array with shape(2, 2) where all values are equal to 10 </br>\n",
    "\n",
    "\n",
    "\n",
    "</p>\n"
   ]
  },
  {
   "cell_type": "code",
   "execution_count": 40,
   "metadata": {},
   "outputs": [
    {
     "data": {
      "text/plain": [
       "array([[10, 10],\n",
       "       [10, 10]])"
      ]
     },
     "execution_count": 40,
     "metadata": {},
     "output_type": "execute_result"
    }
   ],
   "source": [
    "arr = np.full((2, 2), 10)\n",
    "arr"
   ]
  },
  {
   "cell_type": "markdown",
   "metadata": {},
   "source": [
    "<p>\n",
    "Create an array in the following shape: </br>\n",
    "[[1. 0. 0.]</br>\n",
    "[0. 1. 0.]</br>\n",
    "[0. 0. 1.]]</br>\n",
    "\n",
    "\n",
    "\n",
    "</p>\n"
   ]
  },
  {
   "cell_type": "code",
   "execution_count": 41,
   "metadata": {},
   "outputs": [
    {
     "data": {
      "text/plain": [
       "array([[1., 0., 0.],\n",
       "       [0., 1., 0.],\n",
       "       [0., 0., 1.]])"
      ]
     },
     "execution_count": 41,
     "metadata": {},
     "output_type": "execute_result"
    }
   ],
   "source": [
    "arr = np.eye(3) # or arr = np.identity(3)\n",
    "arr"
   ]
  },
  {
   "cell_type": "markdown",
   "metadata": {},
   "source": [
    "<p>\n",
    "Create array out of numbers 1, 2, 3, 4, 5, then display its data type. </br>\n",
    "Then convert the data type to float64 and display the data type.</br>\n",
    "\n",
    "\n",
    "\n",
    "</p>\n"
   ]
  },
  {
   "cell_type": "code",
   "execution_count": 42,
   "metadata": {},
   "outputs": [
    {
     "name": "stdout",
     "output_type": "stream",
     "text": [
      "int32\n",
      "float64\n"
     ]
    }
   ],
   "source": [
    "arr = np.array([1, 2, 3, 4, 5])\n",
    "print(arr.dtype)\n",
    "arr = arr.astype('float64')\n",
    "print(arr.dtype)"
   ]
  },
  {
   "cell_type": "markdown",
   "metadata": {},
   "source": [
    "<p>\n",
    "Create a python list in range of 100. </br>\n",
    "Assign a scalar value of 1001 to the list elements with index 75, 76, 77, 78, 79, 80</br></br>\n",
    "\n",
    "\n",
    "</p>\n"
   ]
  },
  {
   "cell_type": "code",
   "execution_count": null,
   "metadata": {},
   "outputs": [],
   "source": [
    "l = list(range(100))\n",
    "l[75:80] = [1001, 1001, 1001, 1001, 1001, 1001] # or: [1001]*len(l[75:80])\n",
    "l"
   ]
  },
  {
   "cell_type": "markdown",
   "metadata": {},
   "source": [
    "<p>\n",
    "Now create a numpy array in range of 100. </br>\n",
    "Assign a scalar value of 1001 to the array elements with index 75, 76, 77, 78, 79, 80</br></br>\n",
    "Compare the assignment syntax with the one used with the python list.\n",
    "\n",
    "</p>\n"
   ]
  },
  {
   "cell_type": "code",
   "execution_count": 44,
   "metadata": {},
   "outputs": [
    {
     "data": {
      "text/plain": [
       "array([   0,    1,    2,    3,    4,    5,    6,    7,    8,    9,   10,\n",
       "         11,   12,   13,   14,   15,   16,   17,   18,   19,   20,   21,\n",
       "         22,   23,   24,   25,   26,   27,   28,   29,   30,   31,   32,\n",
       "         33,   34,   35,   36,   37,   38,   39,   40,   41,   42,   43,\n",
       "         44,   45,   46,   47,   48,   49,   50,   51,   52,   53,   54,\n",
       "         55,   56,   57,   58,   59,   60,   61,   62,   63,   64,   65,\n",
       "         66,   67,   68,   69,   70,   71,   72,   73,   74, 1001, 1001,\n",
       "       1001, 1001, 1001,   80,   81,   82,   83,   84,   85,   86,   87,\n",
       "         88,   89,   90,   91,   92,   93,   94,   95,   96,   97,   98,\n",
       "         99])"
      ]
     },
     "execution_count": 44,
     "metadata": {},
     "output_type": "execute_result"
    }
   ],
   "source": [
    "arr = np.arange(100)\n",
    "arr[75:80] = 1001\n",
    "arr"
   ]
  },
  {
   "cell_type": "markdown",
   "metadata": {},
   "source": [
    "<p>\n",
    "Create an array out of the following names: \"Bob\", \"Joe\", \"Will\", \"Bob\", \"Will\", \"Joe\", \"Joe\".</br>\n",
    "Return a boolean array where 'True' indicates the position of 'Bob': </br>\n",
    "Output result: [ True, False, False,  True, False, False, False]</br></br>\n",
    "How would you do it if it was a python list?\n",
    "\n",
    "\n",
    "\n",
    "</p>\n"
   ]
  },
  {
   "cell_type": "code",
   "execution_count": 47,
   "metadata": {},
   "outputs": [
    {
     "data": {
      "text/plain": [
       "array([ True, False, False,  True, False, False, False])"
      ]
     },
     "execution_count": 47,
     "metadata": {},
     "output_type": "execute_result"
    }
   ],
   "source": [
    "names = np.array([\"Bob\", \"Joe\", \"Will\", \"Bob\", \"Will\", \"Joe\", \"Joe\"])\n",
    "names == 'Bob'"
   ]
  },
  {
   "cell_type": "markdown",
   "metadata": {},
   "source": [
    "<p>\n",
    "What if you want to return a boolean array where 'True' indicates the position of 'Bob' or 'Will'?</br>\n",
    "\n",
    "</p>\n"
   ]
  },
  {
   "cell_type": "code",
   "execution_count": 52,
   "metadata": {},
   "outputs": [
    {
     "data": {
      "text/plain": [
       "array([ True, False,  True,  True,  True, False, False])"
      ]
     },
     "execution_count": 52,
     "metadata": {},
     "output_type": "execute_result"
    }
   ],
   "source": [
    "(names == 'Bob') | (names == 'Will')"
   ]
  },
  {
   "cell_type": "markdown",
   "metadata": {},
   "source": [
    "<p>\n",
    "Create an integer array out of [4, 7], [0, 2], [-5, 6], [0, 0], [1, 2], [-12, -4], [3, 4].</br>\n",
    "Select values from the integer array where value in the names array is 'Bob' (see the previous tasks).</br>\n",
    "\n",
    "</p>\n"
   ]
  },
  {
   "cell_type": "code",
   "execution_count": 104,
   "metadata": {},
   "outputs": [
    {
     "name": "stdout",
     "output_type": "stream",
     "text": [
      "[[4 7]\n",
      " [0 0]]\n"
     ]
    }
   ],
   "source": [
    "data = np.array([[4, 7], [0, 2], [-5, 6], [0, 0], [1, 2], [-12, -4], [3, 4]])\n",
    "print(data[names == \"Bob\"])"
   ]
  },
  {
   "cell_type": "markdown",
   "metadata": {},
   "source": [
    "<p>\n",
    "Run below piece of code and analyse the result:</br>\n",
    "\n",
    "\n",
    "\n",
    "\n",
    "</p>\n"
   ]
  },
  {
   "cell_type": "code",
   "execution_count": 105,
   "metadata": {},
   "outputs": [
    {
     "name": "stdout",
     "output_type": "stream",
     "text": [
      "[[7]\n",
      " [0]]\n",
      "[7 0]\n"
     ]
    }
   ],
   "source": [
    "names = np.array([\"Bob\", \"Joe\", \"Will\", \"Bob\", \"Will\", \"Joe\", \"Joe\"])\n",
    "data = np.array([[4, 7], [0, 2], [-5, 6], [0, 0], [1, 2], [-12, -4], [3, 4]])\n",
    "\n",
    "print(data[names == \"Bob\", 1:])\n",
    "print(data[names == \"Bob\", 1])"
   ]
  },
  {
   "cell_type": "markdown",
   "metadata": {},
   "source": [
    "<p>\n",
    "Create an array out of [4, 7], [0, 2], [-5, 6], [0, 0], [1, 2], [-12, -4], [3, 4].</br>\n",
    "Assign 0 to the values that are less then 0.</br>\n",
    "\n",
    "\n",
    "\n",
    "</p>\n"
   ]
  },
  {
   "cell_type": "code",
   "execution_count": 54,
   "metadata": {},
   "outputs": [
    {
     "data": {
      "text/plain": [
       "array([[4, 7],\n",
       "       [0, 2],\n",
       "       [0, 6],\n",
       "       [0, 0],\n",
       "       [1, 2],\n",
       "       [0, 0],\n",
       "       [3, 4]])"
      ]
     },
     "execution_count": 54,
     "metadata": {},
     "output_type": "execute_result"
    }
   ],
   "source": [
    "arr = np.array([[4, 7], [0, 2], [-5, 6], [0, 0], [1, 2], [-12, -4], [3, 4]])\n",
    "arr[arr < 0] = 0\n",
    "arr"
   ]
  },
  {
   "cell_type": "markdown",
   "metadata": {},
   "source": [
    "<p>\n",
    "Create an array in range of 32 with shape(8, 4).</br>\n",
    "1. Return the value of 4 using indexing.</br>\n",
    "2. Return the value of 23 using indexing.</br>\n",
    "3. Return the value of 29 using indexing.</br>\n",
    "4. Return the value of 10 using indexing.</br>\n",
    "5. Now using indexing, return the values of 4, 23, 29, 10 all together using one line of code</br></br>\n",
    "Think of how would you do it using a python list and compare the syntax.\n",
    "\n",
    "</p>\n"
   ]
  },
  {
   "cell_type": "code",
   "execution_count": 106,
   "metadata": {},
   "outputs": [
    {
     "name": "stdout",
     "output_type": "stream",
     "text": [
      "[[ 0  1  2  3]\n",
      " [ 4  5  6  7]\n",
      " [ 8  9 10 11]\n",
      " [12 13 14 15]\n",
      " [16 17 18 19]\n",
      " [20 21 22 23]\n",
      " [24 25 26 27]\n",
      " [28 29 30 31]]\n",
      "4\n",
      "23\n",
      "29\n",
      "10\n",
      "[ 4 23 29 10]\n"
     ]
    }
   ],
   "source": [
    "arr = np.arange(32).reshape((8, 4))\n",
    "print(arr)\n",
    "print(arr[1,0])\n",
    "print(arr[5,3])\n",
    "print(arr[7,1])\n",
    "print(arr[2,2])\n",
    "print(arr[[1, 5, 7, 2], [0, 3, 1, 2]]) # == (1, 0), (5, 3), (7, 1), (2, 2)\n"
   ]
  },
  {
   "cell_type": "markdown",
   "metadata": {},
   "source": [
    "<p>\n",
    "Create two arrays 'x' and 'y' with size 8 each populated with random float numbers with the help of numpy.random.standard_normal().</br>\n",
    "1. Return the maximum value by comparing the two arrays.</br>\n",
    "2. From array 'x', return an array containing the whole parts of the float, and another array containing the remainders. E.g. in float -0.60869751 whole part is -0, and remainder is -0.60869751</br>\n",
    "</p>\n"
   ]
  },
  {
   "cell_type": "code",
   "execution_count": 82,
   "metadata": {},
   "outputs": [
    {
     "name": "stdout",
     "output_type": "stream",
     "text": [
      "[ 0.50018473  0.90787665 -0.60869751  0.82298375  0.17933299 -0.69670322\n",
      " -0.72832579 -0.72729416]\n",
      "[ 0.50018473  0.90787665 -0.60869751  0.82298375  0.17933299 -0.69670322\n",
      " -0.72832579 -0.72729416] [ 0.  0. -0.  0.  0. -0. -0. -0.]\n"
     ]
    }
   ],
   "source": [
    "x = np.random.standard_normal(8)\n",
    "y = np.random.standard_normal(8)\n",
    "print(np.maximum(x,y))\n",
    "remainder, whole_part = np.modf(x)\n",
    "print(remainder, whole_part)    "
   ]
  },
  {
   "cell_type": "markdown",
   "metadata": {},
   "source": [
    "<p>\n",
    "Given below arrays, return a python list that takes a value from xarr whenever the corresponding value in cond is True, and otherwise takes the value from yarr.</br>\n",
    "Use list comprehension technique and time it.</br></br>\n",
    "\n",
    "Hint: this has multiple problems. First, it will not be very fast for large arrays (because all the work is being done in interpreted Python code). \n",
    "Second, it will not work with multidimensional arrays.</br>\n",
    "\n",
    "\n",
    "</p>\n"
   ]
  },
  {
   "cell_type": "code",
   "execution_count": 86,
   "metadata": {},
   "outputs": [
    {
     "name": "stdout",
     "output_type": "stream",
     "text": [
      "192 ms ± 7.91 ms per loop (mean ± std. dev. of 7 runs, 10 loops each)\n"
     ]
    }
   ],
   "source": [
    "xarr = np.random.standard_normal(1_000_000)\n",
    "yarr = np.random.standard_normal(1_000_000)\n",
    "cond = np.random.choice(a=[True, False], size=1_000_000)\n",
    "#cond = np.array([True, False, True, True, False])\n",
    "%timeit l = [x if c else y for x, c, y in zip(xarr, yarr, cond)]\n"
   ]
  },
  {
   "cell_type": "markdown",
   "metadata": {},
   "source": [
    "<p>\n",
    "Now repeat the previous task, but return a numpy array this time. Measure the execution time, and compare the results..</br>\n",
    "\n",
    "\n",
    "\n",
    "\n",
    "</p>\n"
   ]
  },
  {
   "cell_type": "code",
   "execution_count": 87,
   "metadata": {},
   "outputs": [
    {
     "name": "stdout",
     "output_type": "stream",
     "text": [
      "3.47 ms ± 180 µs per loop (mean ± std. dev. of 7 runs, 100 loops each)\n"
     ]
    }
   ],
   "source": [
    "%timeit arr = np.where(cond, xarr, yarr)"
   ]
  },
  {
   "cell_type": "markdown",
   "metadata": {},
   "source": [
    "<p>\n",
    "What is a 'row' and what is a 'column' in a multidimensional array? </br></br>\n",
    "Create an array using np.random.standard_normal with size(3, 5).</br>\n",
    "1. Calculate the sum of each 'row'.</br>\n",
    "2. Calculate the sum of each 'column'.</br>\n",
    "\n",
    "\n",
    "\n",
    "</p>\n"
   ]
  },
  {
   "cell_type": "code",
   "execution_count": 3,
   "metadata": {},
   "outputs": [
    {
     "name": "stdout",
     "output_type": "stream",
     "text": [
      "[[-0.981616    0.67553151  1.42525506 -1.51220045 -1.81272244]\n",
      " [ 0.09694457  0.63896713 -1.52039536  1.7264579  -1.1550095 ]\n",
      " [ 1.09371368 -0.19936445  0.40656001 -0.62948237 -0.36804779]]\n",
      "[ 0.20904224  1.11513419  0.31141971 -0.41522493 -3.33577973]\n",
      "[-2.20575232 -0.21303526  0.30337908]\n"
     ]
    }
   ],
   "source": [
    "arr = np.random.standard_normal((3,5))\n",
    "print(arr)\n",
    "print(arr.sum(axis=0))\n",
    "print(arr.sum(axis=1))"
   ]
  },
  {
   "cell_type": "markdown",
   "metadata": {},
   "source": [
    "<p>\n",
    "Boolean values are coerced to 1 (True) and 0 (False). Thus, sum is often used as a means of counting True values in a Boolean array.</br>\n",
    "1. Create an array using np.random.standard_normal with size 100.</br>\n",
    "2. Return the count of values that are greater than zero and the count of values that are less or equal to zero.</br>\n",
    "\n",
    "</p>\n"
   ]
  },
  {
   "cell_type": "code",
   "execution_count": 4,
   "metadata": {},
   "outputs": [
    {
     "name": "stdout",
     "output_type": "stream",
     "text": [
      "48\n",
      "52\n"
     ]
    }
   ],
   "source": [
    "arr = np.random.standard_normal(100)\n",
    "print((arr > 0).sum())\n",
    "print((arr <= 0).sum())\n",
    "\n",
    "#consider adding any, all - or as part of advanced tasks"
   ]
  },
  {
   "cell_type": "markdown",
   "metadata": {},
   "source": [
    "<p>\n",
    "Create an array using np.random.standard_normal with size(8, 10) and sort the values within each column.</br>\n",
    "\n",
    "\n",
    "\n",
    "\n",
    "</p>\n"
   ]
  },
  {
   "cell_type": "code",
   "execution_count": 98,
   "metadata": {},
   "outputs": [
    {
     "name": "stdout",
     "output_type": "stream",
     "text": [
      "[[-0.69276104 -0.46490143 -0.26862972  0.1812811   0.23357313  0.255606\n",
      "   0.4130779   1.03141821  1.07556712  2.64449258]\n",
      " [-0.73395947 -0.54599855 -0.42034314 -0.40245091 -0.33759617 -0.27271383\n",
      "  -0.10466879  0.28946018  0.711644    1.06290972]\n",
      " [-0.81685333 -0.21418687 -0.13595633 -0.1199563  -0.03225136  0.05811347\n",
      "   0.1487667   0.23709511  0.43612481  1.99540529]\n",
      " [-1.50494183 -0.92605237 -0.26133185 -0.15994278  0.03524418  0.24870476\n",
      "   0.38620332  0.8362589   0.94384792  1.50417163]\n",
      " [-2.34044603 -1.75601943 -0.23709661 -0.13407262  0.29693722  0.35789441\n",
      "   0.99353895  1.13889789  1.41206178  1.73728671]\n",
      " [-0.98802148 -0.90989484 -0.61061243 -0.42131421 -0.41239459  0.18904773\n",
      "   0.27496457  0.34154649  0.41331789  0.7707368 ]\n",
      " [-2.76415143 -1.46616629 -0.3874783  -0.15855232 -0.0655165   0.48966003\n",
      "   0.50693253  0.8535298   1.05992879  1.58911691]\n",
      " [-1.08283645 -0.96401427 -0.88319161 -0.25105693 -0.17454668  0.11968631\n",
      "   0.36438916  0.65306271  0.98861927  2.50762099]]\n"
     ]
    }
   ],
   "source": [
    "arr = np.random.standard_normal((8,10))\n",
    "arr.sort(axis=1) # sorts in place!\n",
    "print(arr)"
   ]
  },
  {
   "cell_type": "markdown",
   "metadata": {},
   "source": [
    "<p>\n",
    "Create an array of names \"Bob\", \"Will\", \"Joe\", \"Bob\", \"Will\", \"Joe\", \"Joe\".</br>\n",
    "Then return an array with unique value only.</br>\n",
    "\n",
    "\n",
    "\n",
    "\n",
    "</p>\n"
   ]
  },
  {
   "cell_type": "code",
   "execution_count": 100,
   "metadata": {},
   "outputs": [
    {
     "data": {
      "text/plain": [
       "array(['Bob', 'Joe', 'Will'], dtype='<U4')"
      ]
     },
     "execution_count": 100,
     "metadata": {},
     "output_type": "execute_result"
    }
   ],
   "source": [
    "arr = np.array([\"Bob\", \"Will\", \"Joe\", \"Bob\", \"Will\", \"Joe\", \"Joe\"])\n",
    "np.unique(arr)"
   ]
  }
 ],
 "metadata": {
  "kernelspec": {
   "display_name": "base",
   "language": "python",
   "name": "python3"
  },
  "language_info": {
   "codemirror_mode": {
    "name": "ipython",
    "version": 3
   },
   "file_extension": ".py",
   "mimetype": "text/x-python",
   "name": "python",
   "nbconvert_exporter": "python",
   "pygments_lexer": "ipython3",
   "version": "3.8.5"
  }
 },
 "nbformat": 4,
 "nbformat_minor": 2
}
